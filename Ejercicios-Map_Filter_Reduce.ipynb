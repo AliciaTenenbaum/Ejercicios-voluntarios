{
 "cells": [
  {
   "cell_type": "markdown",
   "id": "21162ea0",
   "metadata": {},
   "source": [
    "# Map"
   ]
  },
  {
   "cell_type": "markdown",
   "id": "b5ebbee8",
   "metadata": {},
   "source": [
    "1️⃣ Convierte todos los caracteres en mayúsculas y minúsculas y eliminar las letras duplicadas de una secuencia dada."
   ]
  },
  {
   "cell_type": "code",
   "execution_count": 1,
   "id": "44ab7cc1",
   "metadata": {},
   "outputs": [],
   "source": [
    "lista = [\"a\", \"a\", \"B\", \"c\", \"D\", \"d\", \"f\", \"F\", \"w\", \"x\", \"m\", \"M\"]"
   ]
  },
  {
   "cell_type": "code",
   "execution_count": 6,
   "id": "923a83d4",
   "metadata": {},
   "outputs": [],
   "source": [
    "# tu solución aquí"
   ]
  },
  {
   "cell_type": "markdown",
   "id": "2169cf10",
   "metadata": {},
   "source": [
    "2️⃣Suma y resta dos listas dadas "
   ]
  },
  {
   "cell_type": "code",
   "execution_count": 8,
   "id": "5a841ce1",
   "metadata": {},
   "outputs": [],
   "source": [
    "nums1 = [6, 5, 3, 9, 2, 2, 4,5, 2, 4, 0]\n",
    "nums2 = [2, 3, 7, 7, 0, 3, 9, 8, 5, 0, 7]"
   ]
  },
  {
   "cell_type": "code",
   "execution_count": 5,
   "id": "7dcc9bed",
   "metadata": {},
   "outputs": [],
   "source": [
    "# tu solución aquí"
   ]
  },
  {
   "cell_type": "markdown",
   "id": "fbbeae0e",
   "metadata": {},
   "source": [
    "3️⃣ Convierte una lista de tuplas dada en una lista de strings. "
   ]
  },
  {
   "cell_type": "code",
   "execution_count": 46,
   "id": "0fe17d3c",
   "metadata": {},
   "outputs": [],
   "source": [
    "names = [('Sheridan','Gentry'), ('Laila','Mckee'), ('Ahsan','Rivas'), ('Conna','Gonzalez')]"
   ]
  },
  {
   "cell_type": "code",
   "execution_count": 4,
   "id": "2f19a038",
   "metadata": {},
   "outputs": [],
   "source": [
    "# tu solución aquí"
   ]
  },
  {
   "cell_type": "markdown",
   "id": "82f927e5",
   "metadata": {},
   "source": [
    "# Filter "
   ]
  },
  {
   "cell_type": "markdown",
   "id": "f6a0f140",
   "metadata": {},
   "source": [
    "1️⃣ Filtra la lista para que sólo queden los números negativos."
   ]
  },
  {
   "cell_type": "code",
   "execution_count": 48,
   "id": "557cc5b1",
   "metadata": {},
   "outputs": [],
   "source": [
    "lst1=[12, -1, 9, 8, -0.5, -0.2, -100, 78, 45, 71, 23, -89, -34, 77]"
   ]
  },
  {
   "cell_type": "code",
   "execution_count": 3,
   "id": "67254bcd",
   "metadata": {},
   "outputs": [],
   "source": [
    "# tu solución aquí"
   ]
  },
  {
   "cell_type": "markdown",
   "id": "8a3b3fb8",
   "metadata": {},
   "source": [
    "2️⃣ Filtra todas las vocales del siguiente string.\n",
    "\n",
    "Pista: tendreís que usar una lambda y una *list comprehension*"
   ]
  },
  {
   "cell_type": "code",
   "execution_count": 51,
   "id": "e091ab19",
   "metadata": {},
   "outputs": [],
   "source": [
    "str1='Los Juegos Olímpicos de Invierno de 2022 se celebrarán en Pekín China'"
   ]
  },
  {
   "cell_type": "code",
   "execution_count": 1,
   "id": "eb1d46ae",
   "metadata": {},
   "outputs": [],
   "source": [
    "# tu solución aquí"
   ]
  },
  {
   "cell_type": "markdown",
   "id": "09b74b55",
   "metadata": {},
   "source": [
    "3️⃣ Filtra todos los enteros positivos de la cadena."
   ]
  },
  {
   "cell_type": "code",
   "execution_count": 54,
   "id": "744075f0",
   "metadata": {},
   "outputs": [],
   "source": [
    "str1='Los Juegos Olímpicos de Invierno de 2022 se celebrarán en Pekín China'"
   ]
  },
  {
   "cell_type": "code",
   "execution_count": 2,
   "id": "89cc538c",
   "metadata": {},
   "outputs": [],
   "source": [
    "# tu solución aquí"
   ]
  },
  {
   "cell_type": "markdown",
   "id": "687bfd23",
   "metadata": {},
   "source": [
    "4️⃣ Encuentra los valores que son comunes a las dos listas. \n"
   ]
  },
  {
   "cell_type": "code",
   "execution_count": 60,
   "id": "c8c9ed0b",
   "metadata": {},
   "outputs": [],
   "source": [
    "a = [1,2,3,5,7,9]\n",
    "b = [2,3,5,6,7,8]"
   ]
  },
  {
   "cell_type": "code",
   "execution_count": null,
   "id": "423e9562",
   "metadata": {},
   "outputs": [],
   "source": [
    "# tu solución aquí"
   ]
  },
  {
   "cell_type": "markdown",
   "id": "625fb4a8",
   "metadata": {},
   "source": [
    "# Reduce "
   ]
  },
  {
   "cell_type": "code",
   "execution_count": 64,
   "id": "330ae0e5",
   "metadata": {},
   "outputs": [],
   "source": [
    "from functools import reduce"
   ]
  },
  {
   "cell_type": "code",
   "execution_count": null,
   "id": "5de5115e",
   "metadata": {},
   "outputs": [],
   "source": [
    "# tu solución aquí"
   ]
  },
  {
   "cell_type": "markdown",
   "id": "afea037e",
   "metadata": {},
   "source": [
    "1️⃣ Suma todos los elementos de la siguiente lista\n",
    "\n",
    "Se puede hacer definiendo nuestra propia función o usando una lambda"
   ]
  },
  {
   "cell_type": "code",
   "execution_count": 62,
   "id": "948370d0",
   "metadata": {},
   "outputs": [],
   "source": [
    "numeros = [1,2,3,4,5,6,7,8,9,10]"
   ]
  },
  {
   "cell_type": "code",
   "execution_count": null,
   "id": "9293c00f",
   "metadata": {},
   "outputs": [],
   "source": [
    "# tu solución aquí"
   ]
  },
  {
   "cell_type": "markdown",
   "id": "312da49a",
   "metadata": {},
   "source": [
    "2️⃣ Genera una lista de 20 numeros aleatorios del 1 al 50. Encuentra los valores máxims y mínimos de la lista generada:"
   ]
  },
  {
   "cell_type": "code",
   "execution_count": 86,
   "id": "00d7fa09",
   "metadata": {},
   "outputs": [],
   "source": [
    "# tu solución aquí"
   ]
  }
 ],
 "metadata": {
  "interpreter": {
   "hash": "b0fa6594d8f4cbf19f97940f81e996739fb7646882a419484c72d19e05852a7e"
  },
  "kernelspec": {
   "display_name": "ironhack",
   "language": "python",
   "name": "python3"
  },
  "language_info": {
   "codemirror_mode": {
    "name": "ipython",
    "version": 3
   },
   "file_extension": ".py",
   "mimetype": "text/x-python",
   "name": "python",
   "nbconvert_exporter": "python",
   "pygments_lexer": "ipython3",
   "version": "3.9.9"
  },
  "toc": {
   "base_numbering": 1,
   "nav_menu": {},
   "number_sections": true,
   "sideBar": true,
   "skip_h1_title": false,
   "title_cell": "Table of Contents",
   "title_sidebar": "Contents",
   "toc_cell": false,
   "toc_position": {},
   "toc_section_display": true,
   "toc_window_display": false
  },
  "varInspector": {
   "cols": {
    "lenName": 16,
    "lenType": 16,
    "lenVar": 40
   },
   "kernels_config": {
    "python": {
     "delete_cmd_postfix": "",
     "delete_cmd_prefix": "del ",
     "library": "var_list.py",
     "varRefreshCmd": "print(var_dic_list())"
    },
    "r": {
     "delete_cmd_postfix": ") ",
     "delete_cmd_prefix": "rm(",
     "library": "var_list.r",
     "varRefreshCmd": "cat(var_dic_list()) "
    }
   },
   "types_to_exclude": [
    "module",
    "function",
    "builtin_function_or_method",
    "instance",
    "_Feature"
   ],
   "window_display": false
  }
 },
 "nbformat": 4,
 "nbformat_minor": 5
}
