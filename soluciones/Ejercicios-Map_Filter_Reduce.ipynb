{
 "cells": [
  {
   "cell_type": "markdown",
   "id": "21162ea0",
   "metadata": {},
   "source": [
    "# Map"
   ]
  },
  {
   "cell_type": "markdown",
   "id": "b5ebbee8",
   "metadata": {},
   "source": [
    "1️⃣ Convierte todos los caracteres en mayúsculas y minúsculas y eliminar las letras duplicadas de una secuencia dada."
   ]
  },
  {
   "cell_type": "code",
   "execution_count": 1,
   "id": "44ab7cc1",
   "metadata": {},
   "outputs": [],
   "source": [
    "lista = [\"a\", \"a\", \"B\", \"c\", \"D\", \"d\", \"f\", \"F\", \"w\", \"x\", \"m\", \"M\"]"
   ]
  },
  {
   "cell_type": "code",
   "execution_count": 2,
   "id": "923a83d4",
   "metadata": {},
   "outputs": [],
   "source": [
    "def cambiar(x):\n",
    "    return x.upper(), x.lower()"
   ]
  },
  {
   "cell_type": "code",
   "execution_count": 6,
   "id": "bb5faa02",
   "metadata": {},
   "outputs": [
    {
     "name": "stdout",
     "output_type": "stream",
     "text": [
      "[('M', 'm'), ('B', 'b'), ('X', 'x'), ('F', 'f'), ('W', 'w'), ('M', 'm'), ('C', 'c'), ('D', 'd'), ('D', 'd'), ('A', 'a'), ('F', 'f')]\n"
     ]
    }
   ],
   "source": [
    "resultado1 = list(map(cambiar, set(lista)))\n",
    "print(resultado1)"
   ]
  },
  {
   "cell_type": "markdown",
   "id": "2169cf10",
   "metadata": {},
   "source": [
    "2️⃣Suma y resta dos listas dadas "
   ]
  },
  {
   "cell_type": "code",
   "execution_count": 8,
   "id": "5a841ce1",
   "metadata": {},
   "outputs": [],
   "source": [
    "nums1 = [6, 5, 3, 9, 2, 2, 4,5, 2, 4, 0]\n",
    "nums2 = [2, 3, 7, 7, 0, 3, 9, 8, 5, 0, 7]"
   ]
  },
  {
   "cell_type": "code",
   "execution_count": 18,
   "id": "7dcc9bed",
   "metadata": {},
   "outputs": [],
   "source": [
    "def diferencia(x, y):\n",
    "\n",
    "    return x + y, x - y"
   ]
  },
  {
   "cell_type": "code",
   "execution_count": 21,
   "id": "fef2581c",
   "metadata": {},
   "outputs": [
    {
     "name": "stdout",
     "output_type": "stream",
     "text": [
      "[(8, 4), (8, 2), (10, -4), (16, 2), (2, 2), (5, -1), (13, -5), (13, -3), (7, -3), (4, 4), (7, -7)]\n"
     ]
    }
   ],
   "source": [
    "resultado2 = list(map(diferencia, nums1, nums2))\n",
    "print(resultado2)"
   ]
  },
  {
   "cell_type": "markdown",
   "id": "fbbeae0e",
   "metadata": {},
   "source": [
    "3️⃣ Convierte una lista de tuplas dada en una lista de strings. "
   ]
  },
  {
   "cell_type": "code",
   "execution_count": 46,
   "id": "0fe17d3c",
   "metadata": {},
   "outputs": [],
   "source": [
    "names = [('Sheridan','Gentry'), ('Laila','Mckee'), ('Ahsan','Rivas'), ('Conna','Gonzalez')]"
   ]
  },
  {
   "cell_type": "code",
   "execution_count": 47,
   "id": "2f19a038",
   "metadata": {},
   "outputs": [
    {
     "data": {
      "text/plain": [
       "['Sheridan Gentry', 'Laila Mckee', 'Ahsan Rivas', 'Conna Gonzalez']"
      ]
     },
     "execution_count": 47,
     "metadata": {},
     "output_type": "execute_result"
    }
   ],
   "source": [
    "resultado3 = list(map(' '.join, names))\n",
    "resultado3"
   ]
  },
  {
   "cell_type": "markdown",
   "id": "82f927e5",
   "metadata": {},
   "source": [
    "# Filter "
   ]
  },
  {
   "cell_type": "markdown",
   "id": "f6a0f140",
   "metadata": {},
   "source": [
    "1️⃣ Filtra la lista para que sólo queden los números negativos."
   ]
  },
  {
   "cell_type": "code",
   "execution_count": 48,
   "id": "557cc5b1",
   "metadata": {},
   "outputs": [],
   "source": [
    "lst1=[12, -1, 9, 8, -0.5, -0.2, -100, 78, 45, 71, 23, -89, -34, 77]"
   ]
  },
  {
   "cell_type": "code",
   "execution_count": 49,
   "id": "67254bcd",
   "metadata": {},
   "outputs": [
    {
     "data": {
      "text/plain": [
       "[-1, -0.5, -0.2, -100, -89, -34]"
      ]
     },
     "execution_count": 49,
     "metadata": {},
     "output_type": "execute_result"
    }
   ],
   "source": [
    "resultado4 = list(filter(lambda x: x < 0, lst1))\n",
    "resultado4"
   ]
  },
  {
   "cell_type": "markdown",
   "id": "8a3b3fb8",
   "metadata": {},
   "source": [
    "2️⃣ Filtra todas las vocales del siguiente string.\n",
    "\n",
    "Pista: tendreís que usar una lambda y una *list comprehension*"
   ]
  },
  {
   "cell_type": "code",
   "execution_count": 51,
   "id": "e091ab19",
   "metadata": {},
   "outputs": [],
   "source": [
    "str1='Los Juegos Olímpicos de Invierno de 2022 se celebrarán en Pekín China'"
   ]
  },
  {
   "cell_type": "code",
   "execution_count": 53,
   "id": "eb1d46ae",
   "metadata": {},
   "outputs": [
    {
     "name": "stdout",
     "output_type": "stream",
     "text": [
      "['o', 'u', 'e', 'o', 'O', 'i', 'o', 'e', 'I', 'i', 'e', 'o', 'e', 'e', 'e', 'e', 'a', 'e', 'e', 'i', 'a']\n"
     ]
    }
   ],
   "source": [
    "resultado5 = list(filter(lambda x: True if x.lower() in \"aeiou\" else False, str1))\n",
    "print(resultado5)"
   ]
  },
  {
   "cell_type": "markdown",
   "id": "09b74b55",
   "metadata": {},
   "source": [
    "3️⃣ Filtra todos los enteros positivos de la cadena."
   ]
  },
  {
   "cell_type": "code",
   "execution_count": 54,
   "id": "744075f0",
   "metadata": {},
   "outputs": [],
   "source": [
    "str1='Los Juegos Olímpicos de Invierno de 2022 se celebrarán en Pekín China'"
   ]
  },
  {
   "cell_type": "code",
   "execution_count": 59,
   "id": "89cc538c",
   "metadata": {},
   "outputs": [
    {
     "data": {
      "text/plain": [
       "['2', '0', '2', '2']"
      ]
     },
     "execution_count": 59,
     "metadata": {},
     "output_type": "execute_result"
    }
   ],
   "source": [
    "resultado6 = list(filter(lambda x: x if x in \"0123456789\" else '', str1))\n",
    "resultado6"
   ]
  },
  {
   "cell_type": "markdown",
   "id": "687bfd23",
   "metadata": {},
   "source": [
    "4️⃣ Encuentra los valores que son comunes a las dos listas. \n"
   ]
  },
  {
   "cell_type": "code",
   "execution_count": 60,
   "id": "c8c9ed0b",
   "metadata": {},
   "outputs": [],
   "source": [
    "a = [1,2,3,5,7,9]\n",
    "b = [2,3,5,6,7,8]"
   ]
  },
  {
   "cell_type": "code",
   "execution_count": 61,
   "id": "a6925c75",
   "metadata": {},
   "outputs": [
    {
     "data": {
      "text/plain": [
       "[2, 3, 5, 7]"
      ]
     },
     "execution_count": 61,
     "metadata": {},
     "output_type": "execute_result"
    }
   ],
   "source": [
    "resultado7 = list(filter(lambda x: x in a, b))\n",
    "resultado7\n"
   ]
  },
  {
   "cell_type": "markdown",
   "id": "625fb4a8",
   "metadata": {},
   "source": [
    "# Reduce "
   ]
  },
  {
   "cell_type": "code",
   "execution_count": 64,
   "id": "330ae0e5",
   "metadata": {},
   "outputs": [],
   "source": [
    "from functools import reduce"
   ]
  },
  {
   "cell_type": "markdown",
   "id": "afea037e",
   "metadata": {},
   "source": [
    "1️⃣ Suma todos los elementos de la siguiente lista\n",
    "\n",
    "Se puede hacer definiendo nuestra propia función o usando una lambda"
   ]
  },
  {
   "cell_type": "code",
   "execution_count": 62,
   "id": "948370d0",
   "metadata": {},
   "outputs": [],
   "source": [
    "numeros = [1,2,3,4,5,6,7,8,9,10]"
   ]
  },
  {
   "cell_type": "code",
   "execution_count": 67,
   "id": "9293c00f",
   "metadata": {},
   "outputs": [],
   "source": [
    "def suma(a, b):\n",
    "    return a + b"
   ]
  },
  {
   "cell_type": "code",
   "execution_count": 70,
   "id": "814e1f14",
   "metadata": {},
   "outputs": [
    {
     "data": {
      "text/plain": [
       "55"
      ]
     },
     "execution_count": 70,
     "metadata": {},
     "output_type": "execute_result"
    }
   ],
   "source": [
    "resultado8_1 = reduce(suma, numeros)\n",
    "resultado8_1"
   ]
  },
  {
   "cell_type": "code",
   "execution_count": 72,
   "id": "0b4f8e97",
   "metadata": {},
   "outputs": [
    {
     "data": {
      "text/plain": [
       "55"
      ]
     },
     "execution_count": 72,
     "metadata": {},
     "output_type": "execute_result"
    }
   ],
   "source": [
    "resultado8_2 = reduce(lambda a, b: a + b, numeros)\n",
    "resultado8_2"
   ]
  },
  {
   "cell_type": "markdown",
   "id": "312da49a",
   "metadata": {},
   "source": [
    "2️⃣ Encuentra los valores máxims y mínimos de la siguiente lista:"
   ]
  },
  {
   "cell_type": "code",
   "execution_count": 86,
   "id": "00d7fa09",
   "metadata": {},
   "outputs": [],
   "source": [
    "import random"
   ]
  },
  {
   "cell_type": "code",
   "execution_count": 87,
   "id": "5c303fcd",
   "metadata": {},
   "outputs": [
    {
     "data": {
      "text/plain": [
       "[41, 2, 48, 47, 3, 4, 7, 21, 14, 20, 10, 32, 37, 45, 29, 13, 49, 28, 8, 18]"
      ]
     },
     "execution_count": 87,
     "metadata": {},
     "output_type": "execute_result"
    }
   ],
   "source": [
    "numeross = random.sample(range(1, 50), 20)\n",
    "numeross"
   ]
  },
  {
   "cell_type": "code",
   "execution_count": 90,
   "id": "37913771",
   "metadata": {},
   "outputs": [],
   "source": [
    "def sacar_minimos(a, b):\n",
    "    if a < b:\n",
    "        return a\n",
    "    else:\n",
    "        return b"
   ]
  },
  {
   "cell_type": "code",
   "execution_count": 91,
   "id": "b6711dfa",
   "metadata": {},
   "outputs": [
    {
     "data": {
      "text/plain": [
       "2"
      ]
     },
     "execution_count": 91,
     "metadata": {},
     "output_type": "execute_result"
    }
   ],
   "source": [
    "minimos = reduce(sacar_minimos, numeross)\n",
    "minimos"
   ]
  },
  {
   "cell_type": "code",
   "execution_count": 94,
   "id": "773b78a6",
   "metadata": {},
   "outputs": [],
   "source": [
    "def sacar_maximos(a, b):\n",
    "    if a > b:\n",
    "        return a\n",
    "    else:\n",
    "        return b"
   ]
  },
  {
   "cell_type": "code",
   "execution_count": 95,
   "id": "20a1f4ea",
   "metadata": {},
   "outputs": [
    {
     "data": {
      "text/plain": [
       "49"
      ]
     },
     "execution_count": 95,
     "metadata": {},
     "output_type": "execute_result"
    }
   ],
   "source": [
    "maximos = reduce(sacar_maximos, numeross)\n",
    "maximos"
   ]
  },
  {
   "cell_type": "code",
   "execution_count": null,
   "id": "c330557c",
   "metadata": {},
   "outputs": [],
   "source": []
  }
 ],
 "metadata": {
  "kernelspec": {
   "display_name": "ironhack",
   "language": "python",
   "name": "ironhack"
  },
  "language_info": {
   "codemirror_mode": {
    "name": "ipython",
    "version": 3
   },
   "file_extension": ".py",
   "mimetype": "text/x-python",
   "name": "python",
   "nbconvert_exporter": "python",
   "pygments_lexer": "ipython3",
   "version": "3.8.5"
  },
  "toc": {
   "base_numbering": 1,
   "nav_menu": {},
   "number_sections": true,
   "sideBar": true,
   "skip_h1_title": false,
   "title_cell": "Table of Contents",
   "title_sidebar": "Contents",
   "toc_cell": false,
   "toc_position": {},
   "toc_section_display": true,
   "toc_window_display": false
  },
  "varInspector": {
   "cols": {
    "lenName": 16,
    "lenType": 16,
    "lenVar": 40
   },
   "kernels_config": {
    "python": {
     "delete_cmd_postfix": "",
     "delete_cmd_prefix": "del ",
     "library": "var_list.py",
     "varRefreshCmd": "print(var_dic_list())"
    },
    "r": {
     "delete_cmd_postfix": ") ",
     "delete_cmd_prefix": "rm(",
     "library": "var_list.r",
     "varRefreshCmd": "cat(var_dic_list()) "
    }
   },
   "types_to_exclude": [
    "module",
    "function",
    "builtin_function_or_method",
    "instance",
    "_Feature"
   ],
   "window_display": false
  }
 },
 "nbformat": 4,
 "nbformat_minor": 5
}
